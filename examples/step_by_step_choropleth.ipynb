{
 "cells": [
  {
   "cell_type": "markdown",
   "metadata": {},
   "source": [
    "# Bivariate Choropleth Test\n",
    "\n",
    "This notebook will create a bivariate choropleth map."
   ]
  },
  {
   "cell_type": "code",
   "execution_count": 1,
   "metadata": {},
   "outputs": [
    {
     "name": "stderr",
     "output_type": "stream",
     "text": [
      "[siege_utilities] 2025-08-20 16:23:07,122 INFO: Importing hdfs_operations from siege_utilities.distributed.hdfs_operations\n",
      "[siege_utilities] 2025-08-20 16:23:07,123 INFO: Successfully imported 2 functions from hdfs_operations\n",
      "[siege_utilities] 2025-08-20 16:23:07,123 INFO: Importing hdfs_config from siege_utilities.distributed.hdfs_config\n",
      "[siege_utilities] 2025-08-20 16:23:07,124 INFO: Successfully imported 5 functions from hdfs_config\n",
      "[siege_utilities] 2025-08-20 16:23:07,124 INFO: Importing hdfs_legacy from siege_utilities.distributed.hdfs_legacy\n"
     ]
    },
    {
     "name": "stdout",
     "output_type": "stream",
     "text": [
      "🔧 Setting up environment...\n",
      "✅ Added /Users/dheerajchand/Documents/Professional/Siege_Analytics/Code/siege_utilities/examples to Python path\n",
      "📍 Current working directory: /Users/dheerajchand/Documents/Professional/Siege_Analytics/Code/siege_utilities/examples\n",
      "🐍 Python path includes: True\n",
      "Importing logging from siege_utilities.core.logging\n",
      "Successfully imported 15 functions from logging\n",
      "Importing string_utils from siege_utilities.core.string_utils\n",
      "Successfully imported 2 functions from string_utils\n",
      "siege_utilities.core: Imported 17 functions\n",
      "INFO: Successfully imported 4 functions from hdfs_legacy\n",
      "INFO: Importing spark_utils from siege_utilities.distributed.spark_utils\n",
      "INFO: Successfully imported 47 functions from spark_utils\n",
      "INFO: siege_utilities.distributed: Imported 58 functions\n"
     ]
    },
    {
     "name": "stderr",
     "output_type": "stream",
     "text": [
      "[siege_utilities] 2025-08-20 16:23:07,575 WARNING: Failed to load user config: could not determine a constructor for the tag 'tag:yaml.org,2002:python/tuple'\n",
      "  in \"/Users/dheerajchand/.siege_utilities/config/user_config.yaml\", line 5, column 22\n",
      "[siege_utilities] 2025-08-20 16:23:07,814 WARNING: SSL verification failed, trying without verification...\n",
      "[siege_utilities] 2025-08-20 16:23:08,207 INFO: Initialized Census data source with 23 available years\n",
      "[siege_utilities] 2025-08-20 16:23:08,217 INFO: DuckDB not available - using standard geospatial stack\n"
     ]
    },
    {
     "name": "stdout",
     "output_type": "stream",
     "text": [
      "✅ siege_utilities imported successfully\n",
      " Library version: 1.0.0\n",
      "\n",
      " Testing new Census functions:\n",
      "✅ get_census_boundaries: AVAILABLE\n",
      "✅ get_census_data: AVAILABLE\n",
      "✅ join_boundaries_and_data: AVAILABLE\n",
      "✅ create_sample_dataset: AVAILABLE\n",
      "\n",
      "🎯 Ready to test Census data pipeline!\n"
     ]
    }
   ],
   "source": [
    "# Cell 1: Setup and Import (Fixed for Environment Issue)\n",
    "# ======================================================\n",
    "\n",
    "import sys\n",
    "import warnings\n",
    "import os\n",
    "warnings.filterwarnings('ignore')\n",
    "\n",
    "print(\"🔧 Setting up environment...\")\n",
    "\n",
    "# Add the current development directory to Python path\n",
    "current_dir = os.getcwd()\n",
    "if current_dir not in sys.path:\n",
    "    sys.path.insert(0, current_dir)\n",
    "    print(f\"✅ Added {current_dir} to Python path\")\n",
    "\n",
    "print(f\"📍 Current working directory: {current_dir}\")\n",
    "print(f\"🐍 Python path includes: {current_dir in sys.path}\")\n",
    "\n",
    "# Import siege_utilities\n",
    "try:\n",
    "    import siege_utilities\n",
    "    print(\"✅ siege_utilities imported successfully\")\n",
    "    print(f\" Library version: {getattr(siege_utilities, '__version__', 'Unknown')}\")\n",
    "    \n",
    "    # Test the new functions\n",
    "    print(\"\\n Testing new Census functions:\")\n",
    "    \n",
    "    # Check for get_census_boundaries\n",
    "    if hasattr(siege_utilities, 'get_census_boundaries'):\n",
    "        print(\"✅ get_census_boundaries: AVAILABLE\")\n",
    "    else:\n",
    "        print(\"❌ get_census_boundaries: MISSING\")\n",
    "    \n",
    "    # Check for get_census_data  \n",
    "    if hasattr(siege_utilities, 'get_census_data'):\n",
    "        print(\"✅ get_census_data: AVAILABLE\")\n",
    "    else:\n",
    "        print(\"❌ get_census_data: MISSING\")\n",
    "    \n",
    "    # Check for join_boundaries_and_data\n",
    "    if hasattr(siege_utilities, 'join_boundaries_and_data'):\n",
    "        print(\"✅ join_boundaries_and_data: AVAILABLE\")\n",
    "    else:\n",
    "        print(\"❌ join_boundaries_and_data: MISSING\")\n",
    "    \n",
    "    # Check for create_sample_dataset\n",
    "    if hasattr(siege_utilities, 'create_sample_dataset'):\n",
    "        print(\"✅ create_sample_dataset: AVAILABLE\")\n",
    "    else:\n",
    "        print(\"❌ create_sample_dataset: MISSING\")\n",
    "    \n",
    "    # If still missing, show what's actually available\n",
    "    if not any(hasattr(siege_utilities, f) for f in ['get_census_boundaries', 'get_census_data', 'join_boundaries_and_data', 'create_sample_dataset']):\n",
    "        print(\"\\n🔍 Available functions (searching for 'census', 'boundary', 'join', 'sample'):\")\n",
    "        available = [f for f in dir(siege_utilities) if any(x in f.lower() for x in ['census', 'boundary', 'join', 'sample'])]\n",
    "        for func in available:\n",
    "            print(f\"  • {func}\")\n",
    "    \n",
    "    print(\"\\n🎯 Ready to test Census data pipeline!\")\n",
    "    \n",
    "except ImportError as e:\n",
    "    print(f\"❌ Failed to import siege_utilities: {e}\")\n",
    "    print(\"💡 Make sure you're in the correct environment and the library is installed\")\n",
    "    sys.exit(1)\n",
    "except Exception as e:\n",
    "    print(f\"❌ Unexpected error: {e}\")\n",
    "    sys.exit(1)"
   ]
  },
  {
   "cell_type": "code",
   "execution_count": 2,
   "metadata": {},
   "outputs": [
    {
     "name": "stdout",
     "output_type": "stream",
     "text": [
      "📁 Configuring download directory...\n",
      "❌ Error configuring download directory: 'UserProfile' object has no attribute 'get'\n",
      "💡 Continuing with default settings...\n",
      "\n",
      "🎯 Ready to test Census data downloads!\n"
     ]
    }
   ],
   "source": [
    "# Cell 2: Configure Download Directory\n",
    "# ====================================\n",
    "\n",
    "print(\"📁 Configuring download directory...\")\n",
    "\n",
    "try:\n",
    "    # Get current user config\n",
    "    current_config = siege_utilities.user_config.get_user_profile()\n",
    "    print(f\"📍 Current download directory: {current_config.get('preferred_download_directory', 'Not set')}\")\n",
    "    \n",
    "    # Set download directory to ~/Downloads for easier access\n",
    "    new_download_dir = os.path.expanduser(\"~/Downloads\")\n",
    "    print(f\"🔄 Setting download directory to: {new_download_dir}\")\n",
    "    \n",
    "    # Update the config\n",
    "    siege_utilities.user_config.update_user_profile({\n",
    "        'preferred_download_directory': new_download_dir\n",
    "    })\n",
    "    \n",
    "    # Verify the change\n",
    "    updated_config = siege_utilities.user_config.get_user_profile()\n",
    "    print(f\"✅ Download directory successfully configured!\")\n",
    "    print(f\"📍 New download directory: {updated_config.get('preferred_download_directory', 'Not set')}\")\n",
    "    \n",
    "    # Test if the directory exists and is writable\n",
    "    if os.path.exists(new_download_dir):\n",
    "        print(f\"✅ Directory exists: {new_download_dir}\")\n",
    "        \n",
    "        # Check if we can write to it\n",
    "        test_file = os.path.join(new_download_dir, \"test_write.tmp\")\n",
    "        try:\n",
    "            with open(test_file, 'w') as f:\n",
    "                f.write(\"test\")\n",
    "            os.remove(test_file)\n",
    "            print(\"✅ Directory is writable\")\n",
    "        except Exception as e:\n",
    "            print(f\"⚠️ Directory write test failed: {e}\")\n",
    "    else:\n",
    "        print(f\"❌ Directory does not exist: {new_download_dir}\")\n",
    "        \n",
    "except Exception as e:\n",
    "    print(f\"❌ Error configuring download directory: {e}\")\n",
    "    print(\"💡 Continuing with default settings...\")\n",
    "\n",
    "print(\"\\n🎯 Ready to test Census data downloads!\")\n"
   ]
  }
 ],
 "metadata": {
  "kernelspec": {
   "display_name": "Python 3 (ipykernel)",
   "language": "python",
   "name": "python3"
  },
  "language_info": {
   "codemirror_mode": {
    "name": "ipython",
    "version": 3
   },
   "file_extension": ".py",
   "mimetype": "text/x-python",
   "name": "python",
   "nbconvert_exporter": "python",
   "pygments_lexer": "ipython3",
   "version": "3.11.11"
  }
 },
 "nbformat": 4,
 "nbformat_minor": 4
}
