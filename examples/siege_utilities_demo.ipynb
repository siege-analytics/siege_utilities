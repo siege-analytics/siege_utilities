{
 "cells": [
  {
   "cell_type": "markdown",
   "metadata": {},
   "source": [
    "# Siege Utilities Data Pipeline Test\n",
    "\n",
    "This notebook tests the core data pipeline capabilities of `siege_utilities` - **moving data between different systems**:\n",
    "\n",
    "1. **Pandas DataFrames** ↔ **PySpark DataFrames**\n",
    "2. **PostgreSQL/PostGIS** ↔ **Pandas/GeoPandas**\n",
    "3. **Spatial Data** ↔ **Analytical Data**\n",
    "4. **Data Generation** → **Database Storage** → **Visualization**\n",
    "\n",
    "## The Goal: Test End-to-End Data Flow\n",
    "\n",
    "We want to verify that data can seamlessly move between:\n",
    "- Python/Pandas environment\n",
    "- Spark/Sedona environment  \n",
    "- PostgreSQL/PostGIS database\n",
    "- Visualization systems (choropleth maps)\n",
    "\n",
    "## Setup and Imports"
   ]
  },
  {
   "cell_type": "code",
   "execution_count": 1,
   "metadata": {},
   "outputs": [
    {
     "name": "stderr",
     "output_type": "stream",
     "text": [
      "2025-08-20 12:47:56,195 INFO: Successfully imported 8 functions from logging\n",
      "2025-08-20 12:47:56,196 INFO: Importing string_utils from siege_utilities.core.string_utils\n",
      "2025-08-20 12:47:56,196 INFO: Successfully imported 1 functions from string_utils\n",
      "2025-08-20 12:47:56,196 INFO: siege_utilities.core: Imported 9 functions\n",
      "2025-08-20 12:47:56,197 INFO: Phase 1: Importing core modules...\n",
      "2025-08-20 12:47:56,197 INFO: Importing module: siege_utilities.core.string_utils\n",
      "2025-08-20 12:47:56,272 INFO: Successfully imported 8 functions from siege_utilities.core.logging\n",
      "2025-08-20 12:47:56,272 INFO: Subpackage core: imported 13 functions\n",
      "2025-08-20 12:47:56,273 INFO: Phase 4: Making functions mutually available...\n",
      "2025-08-20 12:47:56,276 INFO: Injected functions into modules (6906 injections)\n",
      "2025-08-20 12:47:56,276 INFO: 🚀 Siege Utilities package initialization complete!\n",
      "2025-08-20 12:47:56,276 INFO: 📊 Summary: 497 functions, 12 modules, 0 failed imports\n",
      "2025-08-20 12:47:56,277 INFO: ✅ All functions are mutually available across modules\n"
     ]
    },
    {
     "name": "stdout",
     "output_type": "stream",
     "text": [
      "INFO: Importing logging from siege_utilities.core.logging\n",
      "INFO: Successfully imported 5 functions from siege_utilities.core.string_utils\n",
      "INFO: Phase 2: Importing direct modules...\n",
      "INFO: Phase 3: Importing subpackages...\n",
      "INFO: Importing paths from siege_utilities.files.paths\n",
      "INFO: Successfully imported 2 functions from paths\n",
      "INFO: Importing remote from siege_utilities.files.remote\n",
      "INFO: Successfully imported 2 functions from remote\n",
      "INFO: Importing shell from siege_utilities.files.shell\n",
      "INFO: Successfully imported 1 functions from shell\n",
      "INFO: Importing operations from siege_utilities.files.operations\n",
      "INFO: Successfully imported 12 functions from operations\n",
      "INFO: Importing hashing from siege_utilities.files.hashing\n",
      "INFO: Successfully imported 6 functions from hashing\n",
      "INFO: siege_utilities.files: Imported 23 functions\n",
      "INFO: Importing module: siege_utilities.files.paths\n",
      "INFO: Successfully imported 6 functions from siege_utilities.files.paths\n",
      "INFO: Importing module: siege_utilities.files.remote\n",
      "INFO: Successfully imported 6 functions from siege_utilities.files.remote\n",
      "INFO: Importing module: siege_utilities.files.shell\n",
      "INFO: Successfully imported 5 functions from siege_utilities.files.shell\n",
      "INFO: Importing module: siege_utilities.files.operations\n",
      "INFO: Successfully imported 16 functions from siege_utilities.files.operations\n",
      "INFO: Importing module: siege_utilities.files.hashing\n",
      "INFO: Successfully imported 10 functions from siege_utilities.files.hashing\n",
      "INFO: Subpackage files: imported 43 functions\n",
      "INFO: Importing hdfs_operations from siege_utilities.distributed.hdfs_operations\n",
      "INFO: Successfully imported 2 functions from hdfs_operations\n",
      "INFO: Importing hdfs_config from siege_utilities.distributed.hdfs_config\n",
      "INFO: Successfully imported 5 functions from hdfs_config\n",
      "INFO: Importing hdfs_legacy from siege_utilities.distributed.hdfs_legacy\n",
      "INFO: Successfully imported 4 functions from hdfs_legacy\n",
      "INFO: Importing spark_utils from siege_utilities.distributed.spark_utils\n",
      "INFO: Successfully imported 455 functions from spark_utils\n",
      "INFO: siege_utilities.distributed: Imported 466 functions\n",
      "INFO: Importing module: siege_utilities.distributed.hdfs_operations\n",
      "INFO: Successfully imported 6 functions from siege_utilities.distributed.hdfs_operations\n",
      "INFO: Importing module: siege_utilities.distributed.hdfs_config\n",
      "INFO: Successfully imported 9 functions from siege_utilities.distributed.hdfs_config\n",
      "INFO: Importing module: siege_utilities.distributed.hdfs_legacy\n",
      "INFO: Successfully imported 6 functions from siege_utilities.distributed.hdfs_legacy\n",
      "INFO: Importing module: siege_utilities.distributed.spark_utils\n",
      "INFO: Successfully imported 459 functions from siege_utilities.distributed.spark_utils\n",
      "INFO: Subpackage distributed: imported 480 functions\n",
      "INFO: Importing geocoding from siege_utilities.geo.geocoding\n",
      "INFO: Successfully imported 2 functions from geocoding\n",
      "INFO: siege_utilities.geo: Imported 2 functions\n",
      "INFO: Importing module: siege_utilities.geo.geocoding\n",
      "INFO: Successfully imported 6 functions from siege_utilities.geo.geocoding\n",
      "INFO: Subpackage geo: imported 6 functions\n",
      "INFO: Importing module: siege_utilities.core.logging\n",
      "siege_utilities package: Imported 555 items (497 functions)\n",
      "✅ Siege Utilities version: 1.0.0\n",
      "📦 Available functions: 550\n",
      "\n",
      "🔗 Pipeline functions: ['create_geocoding_config', 'current_database', 'export_pyspark_df_to_excel', 'geo', 'get_active_spark_context', 'mark_valid_geocode_data', 'reproject_geom_columns', 'spark_partition_id', 'use_nominatim_geocoder', 'validate_geocode_data']...\n"
     ]
    }
   ],
   "source": [
    "# Standard imports\n",
    "import sys\n",
    "import pandas as pd\n",
    "import numpy as np\n",
    "from pathlib import Path\n",
    "import warnings\n",
    "warnings.filterwarnings('ignore')\n",
    "\n",
    "# Import siege_utilities\n",
    "import siege_utilities\n",
    "\n",
    "print(f\"✅ Siege Utilities version: {siege_utilities.__version__}\")\n",
    "print(f\"📦 Available functions: {len(dir(siege_utilities))}\")\n",
    "\n",
    "# Check what data pipeline functions are available\n",
    "pipeline_functions = [f for f in dir(siege_utilities) if any(x in f.lower() for x in ['spark', 'postgres', 'database', 'geo', 'spatial'])]\n",
    "print(f\"\\n🔗 Pipeline functions: {pipeline_functions[:10]}...\")"
   ]
  }
 ],
 "metadata": {
  "kernelspec": {
   "display_name": "Python 3 (ipykernel)",
   "language": "python",
   "name": "python3"
  },
  "language_info": {
   "codemirror_mode": {
    "name": "ipython",
    "version": 3
   },
   "file_extension": ".py",
   "mimetype": "text/x-python",
   "name": "python",
   "nbconvert_exporter": "python",
   "pygments_lexer": "ipython3",
   "version": "3.11.11"
  }
 },
 "nbformat": 4,
 "nbformat_minor": 4
}
